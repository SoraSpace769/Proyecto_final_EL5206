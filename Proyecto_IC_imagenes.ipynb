{
 "cells": [
  {
   "cell_type": "markdown",
   "metadata": {
    "collapsed": true,
    "pycharm": {
     "name": "#%% md\n"
    }
   },
   "source": [
    "# Proyecto Final Área de Imágenes\n",
    "### EL5206 Laboratorio de Inteligencia Computacional y Robótica\n",
    "\n",
    "Integrantes:\n",
    "* José Díaz\n",
    "* Luis Jiménez"
   ]
  },
  {
   "cell_type": "markdown",
   "source": [
    "El proyecto a realizar consiste en el desarrollo e implementación de un\n",
    "algoritmo de búsqueda de imágenes del tipo CBIR, el cual hará comparaciones entre\n",
    "una imagen de consulta e imágenes en una base de datos a través de sus vectores de características.\n",
    "Para esta implementación se utilizarán dos extractores: uno clásico (HOG) y otro\n",
    "basado en redes convolucionales (CNN)."
   ],
   "metadata": {
    "collapsed": false,
    "pycharm": {
     "name": "#%% md\n"
    }
   }
  },
  {
   "cell_type": "markdown",
   "source": [
    "### Librerías útiles\n",
    "\n",
    "Carga de librerías útiles para el desarrollo del proyecto."
   ],
   "metadata": {
    "collapsed": false,
    "pycharm": {
     "name": "#%% md\n"
    }
   }
  },
  {
   "cell_type": "code",
   "execution_count": 1,
   "outputs": [],
   "source": [
    "import numpy as np\n",
    "import matplotlib.pyplot as plt\n",
    "import torch\n",
    "from PIL import Image\n",
    "from torchvision import transforms\n",
    "import os\n",
    "from tqdm.notebook import tqdm\n",
    "from skimage.feature import hog\n",
    "from skimage import data, exposure"
   ],
   "metadata": {
    "collapsed": false,
    "pycharm": {
     "name": "#%%\n"
    }
   }
  },
  {
   "cell_type": "markdown",
   "source": [
    "### Extracción de características\n",
    "\n",
    "Se generarán dos funciones auxiliares. Una función que extrae\n",
    "el vector de características con el extractor HOG, y otra función\n",
    "que utiliza el extractor CNN."
   ],
   "metadata": {
    "collapsed": false,
    "pycharm": {
     "name": "#%% md\n"
    }
   }
  },
  {
   "cell_type": "markdown",
   "source": [
    "#### Extracción HOG"
   ],
   "metadata": {
    "collapsed": false,
    "pycharm": {
     "name": "#%% md\n"
    }
   }
  },
  {
   "cell_type": "code",
   "execution_count": null,
   "outputs": [],
   "source": [
    "#FUNCIÓN DE EXTRACCION HOG. ADAPTAR PARA QUE EXTRAIGA A UNA\n",
    "#SOLA IMAGEN\n",
    "#def feature_hog(img_path)\n",
    "\n",
    "r_path = '/content/jpg/'\n",
    "w_path = '/content/jpg_hog/'\n",
    "\n",
    "for file in tqdm(os.listdir(r_path)):\n",
    "    image_path = r_path + file\n",
    "    image = Image.open(image_path)\n",
    "    image = image.resize((224,224))\n",
    "\n",
    "    hog_vect = hog(image, orientations=16, pixels_per_cell=(8, 8),\n",
    "                    cells_per_block=(1, 1), feature_vector=True, multichannel=True)\n",
    "\n",
    "    vect_name = w_path + 'hog_' + file[:-4]\n",
    "    #print(type(hog_vect))\n",
    "    #print(hog_vect.shape)\n",
    "    np.save(vect_name, hog_vect)\n"
   ],
   "metadata": {
    "collapsed": false,
    "pycharm": {
     "name": "#%%\n"
    }
   }
  },
  {
   "cell_type": "markdown",
   "source": [
    "#### Extracción CNN"
   ],
   "metadata": {
    "collapsed": false
   }
  },
  {
   "cell_type": "code",
   "execution_count": null,
   "outputs": [],
   "source": [
    "#AQUÍ IMPLEMENTAR FUNCIÓN PARA EXTRACCIÓN CNN DE UNA SOLA IMAGEN\n",
    "#def feature_cnn(img_path)"
   ],
   "metadata": {
    "collapsed": false,
    "pycharm": {
     "name": "#%%\n"
    }
   }
  },
  {
   "cell_type": "markdown",
   "source": [
    "Utilzando las dos funciones auxiliares anteriores,\n",
    "la función a continuación calcula el vector de características asociado\n",
    "a una imagen. Los parámetros de esta función son la imagen en cuestión y el tipo de extractor\n",
    "de características, el cual se puede elegir entre HOG y CNN."
   ],
   "metadata": {
    "collapsed": false,
    "pycharm": {
     "name": "#%% md\n"
    }
   }
  },
  {
   "cell_type": "code",
   "execution_count": null,
   "outputs": [],
   "source": [
    "#FUNCIÓN QUE COMBINA LAS DOS ANTERIORES Y EXTRAE CARACTERISTICAS\n",
    "'''def feature_vector(img_path, extractor):\n",
    "\n",
    "    if extractor == 'HOG':\n",
    "\n",
    "        feat_vector = feature_hog(img_path)\n",
    "\n",
    "    elif extractor == 'CNN':\n",
    "\n",
    "        feat_vector = feature_cnn(img_path)\n",
    "\n",
    "    return feat_vector\n",
    "'''"
   ],
   "metadata": {
    "collapsed": false,
    "pycharm": {
     "name": "#%%\n"
    }
   }
  },
  {
   "cell_type": "markdown",
   "source": [
    "A continuación, se extraen las características de cada imagen de la\n",
    "base de datos disponible."
   ],
   "metadata": {
    "collapsed": false,
    "pycharm": {
     "name": "#%% md\n"
    }
   }
  },
  {
   "cell_type": "markdown",
   "source": [
    "### Métricas\n",
    "\n",
    "Se definen métricas de comparación entre vectores de\n",
    "características de imágenes, así como medidas para generar\n",
    "un ranking de imágenes similares a una imagen de consulta\n",
    "introducida por el usuario."
   ],
   "metadata": {
    "collapsed": false
   }
  },
  {
   "cell_type": "markdown",
   "source": [
    "#### Distancia euclideana"
   ],
   "metadata": {
    "collapsed": false,
    "pycharm": {
     "name": "#%% md\n"
    }
   }
  },
  {
   "cell_type": "code",
   "execution_count": 2,
   "outputs": [],
   "source": [
    "def dist_euc(x, y):\n",
    "\n",
    "    dist = np.linalg.norm(x-y)\n",
    "    return dist"
   ],
   "metadata": {
    "collapsed": false,
    "pycharm": {
     "name": "#%%\n"
    }
   }
  },
  {
   "cell_type": "markdown",
   "source": [
    "#### Distancia chi-cuadrado [1]"
   ],
   "metadata": {
    "collapsed": false
   }
  },
  {
   "cell_type": "code",
   "execution_count": 3,
   "outputs": [],
   "source": [
    "def dist_chi2(X, Y):\n",
    "\n",
    "    chi = 0.5 * np.sum([((x - y) ** 2) / (x + y)\n",
    "                      for (x, y) in zip(X, Y)])\n",
    "    return chi"
   ],
   "metadata": {
    "collapsed": false,
    "pycharm": {
     "name": "#%%\n"
    }
   }
  },
  {
   "cell_type": "markdown",
   "source": [
    "##### Pruebas de dist_euc y dist_chi2"
   ],
   "metadata": {
    "collapsed": false,
    "pycharm": {
     "name": "#%% md\n"
    }
   }
  },
  {
   "cell_type": "code",
   "execution_count": null,
   "outputs": [],
   "source": [
    "X = np.array([1,2,3])\n",
    "Y = np.array([5,6,7])\n",
    "print(dist_euc(X, Y), dist_chi2(X, Y))"
   ],
   "metadata": {
    "collapsed": false,
    "pycharm": {
     "name": "#%%\n"
    }
   }
  },
  {
   "cell_type": "markdown",
   "source": [
    "#### Medida de Ranking"
   ],
   "metadata": {
    "collapsed": false,
    "pycharm": {
     "name": "#%% md\n"
    }
   }
  },
  {
   "cell_type": "code",
   "execution_count": null,
   "outputs": [],
   "source": [
    "#def rank(image, Nrel):\n",
    "\n"
   ],
   "metadata": {
    "collapsed": false,
    "pycharm": {
     "name": "#%%\n"
    }
   }
  },
  {
   "cell_type": "markdown",
   "source": [
    "#### Ranking normalizado"
   ],
   "metadata": {
    "collapsed": false
   }
  },
  {
   "cell_type": "code",
   "execution_count": null,
   "outputs": [],
   "source": [
    "#def rank_norm(image, N, Nrel):\n",
    "\n"
   ],
   "metadata": {
    "collapsed": false,
    "pycharm": {
     "name": "#%%\n"
    }
   }
  },
  {
   "cell_type": "markdown",
   "source": [
    "### Referencias utilizadas\n",
    "\n",
    "[1] https://www.geeksforgeeks.org/chi-square-distance-in-python/\n",
    "\n"
   ],
   "metadata": {
    "collapsed": false,
    "pycharm": {
     "name": "#%% md\n"
    }
   }
  }
 ],
 "metadata": {
  "kernelspec": {
   "display_name": "Python 3",
   "language": "python",
   "name": "python3"
  },
  "language_info": {
   "codemirror_mode": {
    "name": "ipython",
    "version": 2
   },
   "file_extension": ".py",
   "mimetype": "text/x-python",
   "name": "python",
   "nbconvert_exporter": "python",
   "pygments_lexer": "ipython2",
   "version": "2.7.6"
  }
 },
 "nbformat": 4,
 "nbformat_minor": 0
}