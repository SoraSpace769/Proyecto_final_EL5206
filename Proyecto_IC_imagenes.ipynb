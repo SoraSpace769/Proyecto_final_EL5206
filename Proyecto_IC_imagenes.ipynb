{
 "cells": [
  {
   "cell_type": "markdown",
   "metadata": {
    "collapsed": true,
    "pycharm": {
     "name": "#%% md\n"
    }
   },
   "source": [
    "# Proyecto Final Área de Imágenes\n",
    "### EL5206 Laboratorio de Inteligencia Computacional y Robótica\n",
    "\n",
    "Integrantes:\n",
    "* José Díaz\n",
    "* Luis Jiménez"
   ]
  },
  {
   "cell_type": "markdown",
   "source": [
    "El proyecto a realizar consiste en el desarrollo e implementación de un\n",
    "algoritmo de búsqueda de imágenes del tipo CBIR, el cual hará comparaciones entre\n",
    "una imagen de consulta e imágenes en una base de datos a través de sus vectores de características.\n",
    "Para esta implementación se utilizarán dos extractores: uno clásico (HOG) y otro\n",
    "basado en redes convolucionales (CNN)."
   ],
   "metadata": {
    "collapsed": false,
    "pycharm": {
     "name": "#%% md\n"
    }
   }
  },
  {
   "cell_type": "markdown",
   "source": [
    "### Librerías útiles\n",
    "\n",
    "Carga de librerías útiles para el desarrollo del proyecto."
   ],
   "metadata": {
    "collapsed": false,
    "pycharm": {
     "name": "#%% md\n"
    }
   }
  },
  {
   "cell_type": "code",
   "execution_count": 1,
   "outputs": [],
   "source": [
    "import numpy as np\n",
    "import matplotlib.pyplot as plt\n",
    "import torch\n",
    "from PIL import Image\n",
    "from torchvision import transforms\n",
    "import os\n",
    "from tqdm.notebook import tqdm\n",
    "from skimage.feature import hog\n",
    "from skimage import data, exposure"
   ],
   "metadata": {
    "collapsed": false,
    "pycharm": {
     "name": "#%%\n"
    }
   }
  },
  {
   "cell_type": "markdown",
   "source": [
    "### 1. Extracción de características\n",
    "\n",
    "Se generarán dos funciones auxiliares. Una función que extrae\n",
    "el vector de características con el extractor HOG, y otra función\n",
    "que utiliza el extractor CNN."
   ],
   "metadata": {
    "collapsed": false,
    "pycharm": {
     "name": "#%% md\n"
    }
   }
  },
  {
   "cell_type": "markdown",
   "source": [
    "### EXTRACCIÓN TEMPORAL, SE CAMBIARÁ"
   ],
   "metadata": {
    "collapsed": false
   }
  },
  {
   "cell_type": "code",
   "execution_count": 3,
   "outputs": [
    {
     "data": {
      "text/plain": "HBox(children=(HTML(value=''), FloatProgress(value=0.0, max=1491.0), HTML(value='')))",
      "application/vnd.jupyter.widget-view+json": {
       "version_major": 2,
       "version_minor": 0,
       "model_id": "8fd6a9513e694080b7a7a2a9cdb1e51f"
      }
     },
     "metadata": {},
     "output_type": "display_data"
    },
    {
     "name": "stdout",
     "output_type": "stream",
     "text": [
      "\n"
     ]
    }
   ],
   "source": [
    "#hog\n",
    "r_path = 'jpg/'\n",
    "w_path = 'jpg_hog/'\n",
    "\n",
    "for file in tqdm(os.listdir(r_path)):\n",
    "    image_path = r_path + file\n",
    "    image = Image.open(image_path)\n",
    "    image = image.resize((224,224))\n",
    "\n",
    "    hog_vect = hog(image, orientations=16, pixels_per_cell=(8, 8),\n",
    "                    cells_per_block=(1, 1), feature_vector=True, multichannel=True)\n",
    "\n",
    "    vect_name = w_path + 'hog_' + file[:-4]\n",
    "    #print(type(hog_vect))\n",
    "    #print(hog_vect.shape)\n",
    "    np.save(vect_name, hog_vect)"
   ],
   "metadata": {
    "collapsed": false,
    "pycharm": {
     "name": "#%%\n"
    }
   }
  },
  {
   "cell_type": "code",
   "execution_count": 4,
   "outputs": [
    {
     "name": "stderr",
     "output_type": "stream",
     "text": [
      "Downloading: \"https://github.com/pytorch/vision/archive/v0.6.0.zip\" to C:\\Users\\Luis Jiménez/.cache\\torch\\hub\\v0.6.0.zip\n"
     ]
    },
    {
     "ename": "ImportError",
     "evalue": "cannot import name 'resnext50_32x4d' from 'torchvision.models.resnet' (c:\\users\\luis jiménez\\desktop\\importante\\u\\lab_inteligencia\\proyecto\\proyecto_final_el5206\\venv\\lib\\site-packages\\torchvision\\models\\resnet.py)",
     "output_type": "error",
     "traceback": [
      "\u001B[1;31m---------------------------------------------------------------------------\u001B[0m",
      "\u001B[1;31mImportError\u001B[0m                               Traceback (most recent call last)",
      "\u001B[1;32m<ipython-input-4-4715eb84d793>\u001B[0m in \u001B[0;36m<module>\u001B[1;34m\u001B[0m\n\u001B[0;32m      1\u001B[0m \u001B[1;31m#cnn\u001B[0m\u001B[1;33m\u001B[0m\u001B[1;33m\u001B[0m\u001B[1;33m\u001B[0m\u001B[0m\n\u001B[1;32m----> 2\u001B[1;33m \u001B[0mmodel\u001B[0m \u001B[1;33m=\u001B[0m \u001B[0mtorch\u001B[0m\u001B[1;33m.\u001B[0m\u001B[0mhub\u001B[0m\u001B[1;33m.\u001B[0m\u001B[0mload\u001B[0m\u001B[1;33m(\u001B[0m\u001B[1;34m'pytorch/vision:v0.6.0'\u001B[0m\u001B[1;33m,\u001B[0m \u001B[1;34m'resnet18'\u001B[0m\u001B[1;33m,\u001B[0m \u001B[0mpretrained\u001B[0m\u001B[1;33m=\u001B[0m\u001B[1;32mTrue\u001B[0m\u001B[1;33m)\u001B[0m\u001B[1;33m\u001B[0m\u001B[1;33m\u001B[0m\u001B[0m\n\u001B[0m\u001B[0;32m      3\u001B[0m \u001B[0mmodel\u001B[0m \u001B[1;33m=\u001B[0m \u001B[0mtorch\u001B[0m\u001B[1;33m.\u001B[0m\u001B[0mnn\u001B[0m\u001B[1;33m.\u001B[0m\u001B[0mSequential\u001B[0m\u001B[1;33m(\u001B[0m\u001B[1;33m*\u001B[0m\u001B[1;33m(\u001B[0m\u001B[0mlist\u001B[0m\u001B[1;33m(\u001B[0m\u001B[0mmodel\u001B[0m\u001B[1;33m.\u001B[0m\u001B[0mchildren\u001B[0m\u001B[1;33m(\u001B[0m\u001B[1;33m)\u001B[0m\u001B[1;33m)\u001B[0m\u001B[1;33m[\u001B[0m\u001B[1;33m:\u001B[0m\u001B[1;33m-\u001B[0m\u001B[1;36m1\u001B[0m\u001B[1;33m]\u001B[0m\u001B[1;33m)\u001B[0m\u001B[1;33m)\u001B[0m\u001B[1;33m\u001B[0m\u001B[1;33m\u001B[0m\u001B[0m\n\u001B[0;32m      4\u001B[0m \u001B[1;33m\u001B[0m\u001B[0m\n",
      "\u001B[1;32mc:\\users\\luis jiménez\\desktop\\importante\\u\\lab_inteligencia\\proyecto\\proyecto_final_el5206\\venv\\lib\\site-packages\\torch\\hub.py\u001B[0m in \u001B[0;36mload\u001B[1;34m(repo_or_dir, model, *args, **kwargs)\u001B[0m\n\u001B[0;32m    368\u001B[0m         \u001B[0mrepo_or_dir\u001B[0m \u001B[1;33m=\u001B[0m \u001B[0m_get_cache_or_reload\u001B[0m\u001B[1;33m(\u001B[0m\u001B[0mrepo_or_dir\u001B[0m\u001B[1;33m,\u001B[0m \u001B[0mforce_reload\u001B[0m\u001B[1;33m,\u001B[0m \u001B[0mverbose\u001B[0m\u001B[1;33m)\u001B[0m\u001B[1;33m\u001B[0m\u001B[1;33m\u001B[0m\u001B[0m\n\u001B[0;32m    369\u001B[0m \u001B[1;33m\u001B[0m\u001B[0m\n\u001B[1;32m--> 370\u001B[1;33m     \u001B[0mmodel\u001B[0m \u001B[1;33m=\u001B[0m \u001B[0m_load_local\u001B[0m\u001B[1;33m(\u001B[0m\u001B[0mrepo_or_dir\u001B[0m\u001B[1;33m,\u001B[0m \u001B[0mmodel\u001B[0m\u001B[1;33m,\u001B[0m \u001B[1;33m*\u001B[0m\u001B[0margs\u001B[0m\u001B[1;33m,\u001B[0m \u001B[1;33m**\u001B[0m\u001B[0mkwargs\u001B[0m\u001B[1;33m)\u001B[0m\u001B[1;33m\u001B[0m\u001B[1;33m\u001B[0m\u001B[0m\n\u001B[0m\u001B[0;32m    371\u001B[0m     \u001B[1;32mreturn\u001B[0m \u001B[0mmodel\u001B[0m\u001B[1;33m\u001B[0m\u001B[1;33m\u001B[0m\u001B[0m\n\u001B[0;32m    372\u001B[0m \u001B[1;33m\u001B[0m\u001B[0m\n",
      "\u001B[1;32mc:\\users\\luis jiménez\\desktop\\importante\\u\\lab_inteligencia\\proyecto\\proyecto_final_el5206\\venv\\lib\\site-packages\\torch\\hub.py\u001B[0m in \u001B[0;36m_load_local\u001B[1;34m(hubconf_dir, model, *args, **kwargs)\u001B[0m\n\u001B[0;32m    394\u001B[0m \u001B[1;33m\u001B[0m\u001B[0m\n\u001B[0;32m    395\u001B[0m     \u001B[0mhubconf_path\u001B[0m \u001B[1;33m=\u001B[0m \u001B[0mos\u001B[0m\u001B[1;33m.\u001B[0m\u001B[0mpath\u001B[0m\u001B[1;33m.\u001B[0m\u001B[0mjoin\u001B[0m\u001B[1;33m(\u001B[0m\u001B[0mhubconf_dir\u001B[0m\u001B[1;33m,\u001B[0m \u001B[0mMODULE_HUBCONF\u001B[0m\u001B[1;33m)\u001B[0m\u001B[1;33m\u001B[0m\u001B[1;33m\u001B[0m\u001B[0m\n\u001B[1;32m--> 396\u001B[1;33m     \u001B[0mhub_module\u001B[0m \u001B[1;33m=\u001B[0m \u001B[0mimport_module\u001B[0m\u001B[1;33m(\u001B[0m\u001B[0mMODULE_HUBCONF\u001B[0m\u001B[1;33m,\u001B[0m \u001B[0mhubconf_path\u001B[0m\u001B[1;33m)\u001B[0m\u001B[1;33m\u001B[0m\u001B[1;33m\u001B[0m\u001B[0m\n\u001B[0m\u001B[0;32m    397\u001B[0m \u001B[1;33m\u001B[0m\u001B[0m\n\u001B[0;32m    398\u001B[0m     \u001B[0mentry\u001B[0m \u001B[1;33m=\u001B[0m \u001B[0m_load_entry_from_hubconf\u001B[0m\u001B[1;33m(\u001B[0m\u001B[0mhub_module\u001B[0m\u001B[1;33m,\u001B[0m \u001B[0mmodel\u001B[0m\u001B[1;33m)\u001B[0m\u001B[1;33m\u001B[0m\u001B[1;33m\u001B[0m\u001B[0m\n",
      "\u001B[1;32mc:\\users\\luis jiménez\\desktop\\importante\\u\\lab_inteligencia\\proyecto\\proyecto_final_el5206\\venv\\lib\\site-packages\\torch\\hub.py\u001B[0m in \u001B[0;36mimport_module\u001B[1;34m(name, path)\u001B[0m\n\u001B[0;32m     69\u001B[0m     \u001B[0mmodule\u001B[0m \u001B[1;33m=\u001B[0m \u001B[0mimportlib\u001B[0m\u001B[1;33m.\u001B[0m\u001B[0mutil\u001B[0m\u001B[1;33m.\u001B[0m\u001B[0mmodule_from_spec\u001B[0m\u001B[1;33m(\u001B[0m\u001B[0mspec\u001B[0m\u001B[1;33m)\u001B[0m\u001B[1;33m\u001B[0m\u001B[1;33m\u001B[0m\u001B[0m\n\u001B[0;32m     70\u001B[0m     \u001B[1;32massert\u001B[0m \u001B[0misinstance\u001B[0m\u001B[1;33m(\u001B[0m\u001B[0mspec\u001B[0m\u001B[1;33m.\u001B[0m\u001B[0mloader\u001B[0m\u001B[1;33m,\u001B[0m \u001B[0mLoader\u001B[0m\u001B[1;33m)\u001B[0m\u001B[1;33m\u001B[0m\u001B[1;33m\u001B[0m\u001B[0m\n\u001B[1;32m---> 71\u001B[1;33m     \u001B[0mspec\u001B[0m\u001B[1;33m.\u001B[0m\u001B[0mloader\u001B[0m\u001B[1;33m.\u001B[0m\u001B[0mexec_module\u001B[0m\u001B[1;33m(\u001B[0m\u001B[0mmodule\u001B[0m\u001B[1;33m)\u001B[0m\u001B[1;33m\u001B[0m\u001B[1;33m\u001B[0m\u001B[0m\n\u001B[0m\u001B[0;32m     72\u001B[0m     \u001B[1;32mreturn\u001B[0m \u001B[0mmodule\u001B[0m\u001B[1;33m\u001B[0m\u001B[1;33m\u001B[0m\u001B[0m\n\u001B[0;32m     73\u001B[0m \u001B[1;33m\u001B[0m\u001B[0m\n",
      "\u001B[1;32mC:\\Python39\\lib\\importlib\\_bootstrap_external.py\u001B[0m in \u001B[0;36mexec_module\u001B[1;34m(self, module)\u001B[0m\n",
      "\u001B[1;32mC:\\Python39\\lib\\importlib\\_bootstrap.py\u001B[0m in \u001B[0;36m_call_with_frames_removed\u001B[1;34m(f, *args, **kwds)\u001B[0m\n",
      "\u001B[1;32m~/.cache\\torch\\hub\\pytorch_vision_v0.6.0\\hubconf.py\u001B[0m in \u001B[0;36m<module>\u001B[1;34m\u001B[0m\n\u001B[0;32m      5\u001B[0m \u001B[1;32mfrom\u001B[0m \u001B[0mtorchvision\u001B[0m\u001B[1;33m.\u001B[0m\u001B[0mmodels\u001B[0m\u001B[1;33m.\u001B[0m\u001B[0mdensenet\u001B[0m \u001B[1;32mimport\u001B[0m \u001B[0mdensenet121\u001B[0m\u001B[1;33m,\u001B[0m \u001B[0mdensenet169\u001B[0m\u001B[1;33m,\u001B[0m \u001B[0mdensenet201\u001B[0m\u001B[1;33m,\u001B[0m \u001B[0mdensenet161\u001B[0m\u001B[1;33m\u001B[0m\u001B[1;33m\u001B[0m\u001B[0m\n\u001B[0;32m      6\u001B[0m \u001B[1;32mfrom\u001B[0m \u001B[0mtorchvision\u001B[0m\u001B[1;33m.\u001B[0m\u001B[0mmodels\u001B[0m\u001B[1;33m.\u001B[0m\u001B[0minception\u001B[0m \u001B[1;32mimport\u001B[0m \u001B[0minception_v3\u001B[0m\u001B[1;33m\u001B[0m\u001B[1;33m\u001B[0m\u001B[0m\n\u001B[1;32m----> 7\u001B[1;33m \u001B[1;32mfrom\u001B[0m \u001B[0mtorchvision\u001B[0m\u001B[1;33m.\u001B[0m\u001B[0mmodels\u001B[0m\u001B[1;33m.\u001B[0m\u001B[0mresnet\u001B[0m \u001B[1;32mimport\u001B[0m \u001B[0mresnet18\u001B[0m\u001B[1;33m,\u001B[0m \u001B[0mresnet34\u001B[0m\u001B[1;33m,\u001B[0m \u001B[0mresnet50\u001B[0m\u001B[1;33m,\u001B[0m \u001B[0mresnet101\u001B[0m\u001B[1;33m,\u001B[0m \u001B[0mresnet152\u001B[0m\u001B[1;33m,\u001B[0m\u001B[0;31m\\\u001B[0m\u001B[1;33m\u001B[0m\u001B[1;33m\u001B[0m\u001B[0m\n\u001B[0m\u001B[0;32m      8\u001B[0m     \u001B[0mresnext50_32x4d\u001B[0m\u001B[1;33m,\u001B[0m \u001B[0mresnext101_32x8d\u001B[0m\u001B[1;33m,\u001B[0m \u001B[0mwide_resnet50_2\u001B[0m\u001B[1;33m,\u001B[0m \u001B[0mwide_resnet101_2\u001B[0m\u001B[1;33m\u001B[0m\u001B[1;33m\u001B[0m\u001B[0m\n\u001B[0;32m      9\u001B[0m \u001B[1;32mfrom\u001B[0m \u001B[0mtorchvision\u001B[0m\u001B[1;33m.\u001B[0m\u001B[0mmodels\u001B[0m\u001B[1;33m.\u001B[0m\u001B[0msqueezenet\u001B[0m \u001B[1;32mimport\u001B[0m \u001B[0msqueezenet1_0\u001B[0m\u001B[1;33m,\u001B[0m \u001B[0msqueezenet1_1\u001B[0m\u001B[1;33m\u001B[0m\u001B[1;33m\u001B[0m\u001B[0m\n",
      "\u001B[1;31mImportError\u001B[0m: cannot import name 'resnext50_32x4d' from 'torchvision.models.resnet' (c:\\users\\luis jiménez\\desktop\\importante\\u\\lab_inteligencia\\proyecto\\proyecto_final_el5206\\venv\\lib\\site-packages\\torchvision\\models\\resnet.py)"
     ]
    }
   ],
   "source": [
    "#cnn\n",
    "model = torch.hub.load('pytorch/vision:v0.6.0', 'resnet18', pretrained=True)\n",
    "model = torch.nn.Sequential(*(list(model.children())[:-1]))"
   ],
   "metadata": {
    "collapsed": false,
    "pycharm": {
     "name": "#%%\n"
    }
   }
  },
  {
   "cell_type": "code",
   "execution_count": null,
   "outputs": [],
   "source": [
    "preprocess = transforms.Compose([\n",
    "    transforms.ToTensor(),\n",
    "    transforms.Normalize(mean=[0.485, 0.456, 0.406], std=[0.229, 0.224, 0.225]),\n",
    "])\n",
    " # create a mini-batch as expected by the model\n",
    "\n",
    "r_path = 'jpg/'\n",
    "w_path = 'jpg_cnn/'\n",
    "\n",
    "# move the input and model to GPU for speed if available\n",
    "if torch.cuda.is_available():\n",
    "    input_batch = input_batch.to('cuda')\n",
    "    model.to('cuda')\n",
    "\n",
    "with torch.no_grad():\n",
    "    for file in tqdm(os.listdir(r_path)):\n",
    "        image_path = r_path + file\n",
    "        image = Image.open(image_path)\n",
    "        image = image.resize((224,224))\n",
    "        input_tensor = preprocess(image)\n",
    "        input_batch = input_tensor.unsqueeze(0)\n",
    "\n",
    "        output = model(input_batch)\n",
    "        output = output.numpy().ravel()\n",
    "        vect_name = w_path + 'cnn_' + file[:-4]\n",
    "        #print(type(hog_vect))\n",
    "        #print(hog_vect.shape)\n",
    "        np.save(vect_name, output)"
   ],
   "metadata": {
    "collapsed": false,
    "pycharm": {
     "name": "#%%\n"
    }
   }
  },
  {
   "cell_type": "markdown",
   "source": [
    "#### Extracción HOG"
   ],
   "metadata": {
    "collapsed": false,
    "pycharm": {
     "name": "#%% md\n"
    }
   }
  },
  {
   "cell_type": "code",
   "execution_count": null,
   "outputs": [],
   "source": [
    "#FUNCIÓN DE EXTRACCION HOG. ADAPTAR PARA QUE EXTRAIGA A UNA\n",
    "#SOLA IMAGEN\n",
    "#def feature_hog(img_path)\n",
    "\n",
    "\n"
   ],
   "metadata": {
    "collapsed": false,
    "pycharm": {
     "name": "#%%\n"
    }
   }
  },
  {
   "cell_type": "markdown",
   "source": [
    "#### Extracción CNN"
   ],
   "metadata": {
    "collapsed": false
   }
  },
  {
   "cell_type": "code",
   "execution_count": null,
   "outputs": [],
   "source": [
    "#AQUÍ IMPLEMENTAR FUNCIÓN PARA EXTRACCIÓN CNN DE UNA SOLA IMAGEN\n",
    "#def feature_cnn(img_path)"
   ],
   "metadata": {
    "collapsed": false,
    "pycharm": {
     "name": "#%%\n"
    }
   }
  },
  {
   "cell_type": "markdown",
   "source": [
    "Utilzando las dos funciones auxiliares anteriores,\n",
    "la función a continuación calcula el vector de características asociado\n",
    "a una imagen. Los parámetros de esta función son la imagen en cuestión y el tipo de extractor\n",
    "de características, el cual se puede elegir entre HOG y CNN."
   ],
   "metadata": {
    "collapsed": false,
    "pycharm": {
     "name": "#%% md\n"
    }
   }
  },
  {
   "cell_type": "code",
   "execution_count": null,
   "outputs": [],
   "source": [
    "#FUNCIÓN QUE COMBINA LAS DOS ANTERIORES Y EXTRAE CARACTERISTICAS\n",
    "'''def feature_vector(img_path, extractor):\n",
    "\n",
    "    if extractor == 'HOG':\n",
    "\n",
    "        feat_vector = feature_hog(img_path)\n",
    "\n",
    "    elif extractor == 'CNN':\n",
    "\n",
    "        feat_vector = feature_cnn(img_path)\n",
    "\n",
    "    return feat_vector\n",
    "'''"
   ],
   "metadata": {
    "collapsed": false,
    "pycharm": {
     "name": "#%%\n"
    }
   }
  },
  {
   "cell_type": "markdown",
   "source": [
    "A continuación, se extraen las características de cada imagen de la\n",
    "base de datos disponible."
   ],
   "metadata": {
    "collapsed": false,
    "pycharm": {
     "name": "#%% md\n"
    }
   }
  },
  {
   "cell_type": "code",
   "execution_count": null,
   "outputs": [],
   "source": [
    "#ACÁ USAR LOS CICLOS FOR Y LA FUNCIÓN ANTERIOR, Y GUARDAR EN UNA\n",
    "#VARIABLE LOS VECTORES EXTRAÍDOS"
   ],
   "metadata": {
    "collapsed": false,
    "pycharm": {
     "name": "#%%\n"
    }
   }
  },
  {
   "cell_type": "markdown",
   "source": [
    "### 2. Métricas\n",
    "\n",
    "Se definen métricas de comparación entre vectores de\n",
    "características de imágenes, así como medidas para generar\n",
    "un ranking de imágenes similares a una imagen de consulta\n",
    "introducida por el usuario."
   ],
   "metadata": {
    "collapsed": false
   }
  },
  {
   "cell_type": "markdown",
   "source": [
    "#### Distancia euclideana"
   ],
   "metadata": {
    "collapsed": false,
    "pycharm": {
     "name": "#%% md\n"
    }
   }
  },
  {
   "cell_type": "code",
   "execution_count": 3,
   "outputs": [],
   "source": [
    "def dist_euc(X, Y):\n",
    "\n",
    "    dist = np.linalg.norm(X-Y)\n",
    "    return dist"
   ],
   "metadata": {
    "collapsed": false,
    "pycharm": {
     "name": "#%%\n"
    }
   }
  },
  {
   "cell_type": "markdown",
   "source": [
    "#### Distancia chi-cuadrado [1]"
   ],
   "metadata": {
    "collapsed": false
   }
  },
  {
   "cell_type": "code",
   "execution_count": 4,
   "outputs": [],
   "source": [
    "def dist_chi2(X, Y):\n",
    "\n",
    "    chi = 0.5 * np.sum([((x - y) ** 2) / (x + y)\n",
    "                      for (x, y) in zip(X, Y)])\n",
    "    return chi"
   ],
   "metadata": {
    "collapsed": false,
    "pycharm": {
     "name": "#%%\n"
    }
   }
  },
  {
   "cell_type": "markdown",
   "source": [
    "##### Pruebas de dist_euc y dist_chi2"
   ],
   "metadata": {
    "collapsed": false,
    "pycharm": {
     "name": "#%% md\n"
    }
   }
  },
  {
   "cell_type": "code",
   "execution_count": 5,
   "outputs": [
    {
     "name": "stdout",
     "output_type": "stream",
     "text": [
      "6.928203230275509 3.133333333333333\n"
     ]
    }
   ],
   "source": [
    "X = np.array([1,2,3])\n",
    "Y = np.array([5,6,7])\n",
    "print(dist_euc(X, Y), dist_chi2(X, Y))"
   ],
   "metadata": {
    "collapsed": false,
    "pycharm": {
     "name": "#%%\n"
    }
   }
  },
  {
   "cell_type": "markdown",
   "source": [
    "#### Función para elegir tipo de distancia"
   ],
   "metadata": {
    "collapsed": false,
    "pycharm": {
     "name": "#%% md\n"
    }
   }
  },
  {
   "cell_type": "code",
   "execution_count": null,
   "outputs": [],
   "source": [
    "def dist_vectors(X, Y, dist_type):\n",
    "\n",
    "    if dist_type == 'euc':\n",
    "\n",
    "        dist = dist_euc(X, Y)\n",
    "\n",
    "    elif dist_type == 'chi2':\n",
    "\n",
    "        dist = dist_chi2(X, Y)\n",
    "\n",
    "    return dist"
   ],
   "metadata": {
    "collapsed": false,
    "pycharm": {
     "name": "#%%\n"
    }
   }
  },
  {
   "cell_type": "markdown",
   "source": [
    "### 3. Comparación de una imagen de consulta con la BBDD\n",
    "\n",
    "En esta sección, para cada imagen de consulta, se calcula la distancia entre\n",
    "su vector de características con todos los vectores de características de\n",
    "la base de datos.\n",
    "\n",
    "RECORDATORIO: ID_imagen = 00 -> CONSULTA\n",
    "\n",
    "DISTINTO DE 00 ES BBDD"
   ],
   "metadata": {
    "collapsed": false,
    "pycharm": {
     "name": "#%% md\n"
    }
   }
  },
  {
   "cell_type": "markdown",
   "source": [
    "### 4. Ordenamiento de imágenes por relevancia (medida de Ranking)\n",
    "\n",
    "A continuación, para cada imagen de consulta, se ordenan de menor a mayor\n",
    "las distancias obtenidas al hacer la comparación con la base de datos.\n",
    "\n",
    "para cada imagen \"query\",\n",
    "calculaba sus distancias con todas las imagenes en la\n",
    "base de datos, las ordenaba, y calculaba el ranking\n",
    "sacando el promedio de la posición en que quedaron\n",
    "las imágenes de la misma clase a la query"
   ],
   "metadata": {
    "collapsed": false,
    "pycharm": {
     "name": "#%% md\n"
    }
   }
  },
  {
   "cell_type": "code",
   "execution_count": null,
   "outputs": [],
   "source": [
    "#ORDENAMIENTO DE DISTANCIAS"
   ],
   "metadata": {
    "collapsed": false,
    "pycharm": {
     "name": "#%%\n"
    }
   }
  },
  {
   "cell_type": "markdown",
   "source": [
    "Luego, con las imágenes ordenadas, se calcula una medida de ranking,\n",
    "que entrega la posición promedio de las imágenes que entrega el buscador\n",
    "al realizar la consulta de una imagen.\n",
    "\n",
    "Las imágenes consideradas relevantes para la consulta de una imagen particular\n",
    "corresponden a imágenes de la base de datos que pertenecen a la misma\n",
    "clase que la imagen de consulta."
   ],
   "metadata": {
    "collapsed": false,
    "pycharm": {
     "name": "#%% md\n"
    }
   }
  },
  {
   "cell_type": "code",
   "execution_count": null,
   "outputs": [],
   "source": [
    "#def rank(image, Nrel):\n",
    "\n"
   ],
   "metadata": {
    "collapsed": false,
    "pycharm": {
     "name": "#%%\n"
    }
   }
  },
  {
   "cell_type": "markdown",
   "source": [
    "### 5. Comparación de métodos de extracción\n",
    "\n",
    "Se necesita evaluar la robustez de los métodos de extracción utilizados\n",
    "en este proyecto, y una forma de compararlos es mediante la normalización\n",
    "de la medida de Ranking que se utilizó anteriormente."
   ],
   "metadata": {
    "collapsed": false
   }
  },
  {
   "cell_type": "code",
   "execution_count": null,
   "outputs": [],
   "source": [
    "#def rank_norm(image, N, Nrel):\n"
   ],
   "metadata": {
    "collapsed": false,
    "pycharm": {
     "name": "#%%\n"
    }
   }
  },
  {
   "cell_type": "markdown",
   "source": [
    "### 6. Ejemplos de uso del algoritmo\n",
    "\n",
    "A continuación se muestran algunos ejemplos de consulta de imágenes\n",
    "y la respuesta del método, cambiando tipos de extractores y métricas\n",
    "de distancias utilizadas."
   ],
   "metadata": {
    "collapsed": false,
    "pycharm": {
     "name": "#%% md\n"
    }
   }
  },
  {
   "cell_type": "markdown",
   "source": [
    "### 7. Optimización algorítmica del método"
   ],
   "metadata": {
    "collapsed": false,
    "pycharm": {
     "name": "#%% md\n"
    }
   }
  },
  {
   "cell_type": "markdown",
   "source": [
    "### Referencias utilizadas\n",
    "\n",
    "[1] https://www.geeksforgeeks.org/chi-square-distance-in-python/\n",
    "\n"
   ],
   "metadata": {
    "collapsed": false,
    "pycharm": {
     "name": "#%% md\n"
    }
   }
  }
 ],
 "metadata": {
  "kernelspec": {
   "display_name": "Python 3",
   "language": "python",
   "name": "python3"
  },
  "language_info": {
   "codemirror_mode": {
    "name": "ipython",
    "version": 2
   },
   "file_extension": ".py",
   "mimetype": "text/x-python",
   "name": "python",
   "nbconvert_exporter": "python",
   "pygments_lexer": "ipython2",
   "version": "2.7.6"
  }
 },
 "nbformat": 4,
 "nbformat_minor": 0
}