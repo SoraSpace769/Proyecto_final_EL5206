{
 "cells": [
  {
   "cell_type": "markdown",
   "metadata": {
    "collapsed": true,
    "pycharm": {
     "name": "#%% md\n"
    }
   },
   "source": [
    "# Proyecto Final Área de Imágenes\n",
    "### EL5206 Laboratorio de Inteligencia Computacional y Robótica\n",
    "\n",
    "Integrantes:\n",
    "* José Díaz\n",
    "* Luis Jiménez"
   ]
  },
  {
   "cell_type": "markdown",
   "source": [
    "El proyecto a realizar consiste en el desarrollo e implementación de un\n",
    "algoritmo de búsqueda de imágenes del tipo CBIR, el cual hará comparaciones entre\n",
    "una imagen de consulta e imágenes en una base de datos a través de sus vectores de características.\n",
    "Para esta implementación se utilizarán dos extractores: uno clásico (HOG) y otro\n",
    "basado en redes convolucionales (CNN)."
   ],
   "metadata": {
    "collapsed": false,
    "pycharm": {
     "name": "#%% md\n"
    }
   }
  },
  {
   "cell_type": "markdown",
   "source": [
    "### Librerías útiles\n",
    "\n",
    "Carga de librerías útiles para el desarrollo del proyecto."
   ],
   "metadata": {
    "collapsed": false,
    "pycharm": {
     "name": "#%% md\n"
    }
   }
  },
  {
   "cell_type": "code",
   "execution_count": 3,
   "outputs": [],
   "source": [
    "import numpy as np\n",
    "import matplotlib.pyplot as plt\n",
    "import torch\n",
    "from PIL import Image\n",
    "from torchvision import transforms\n",
    "import os\n",
    "from tqdm.notebook import tqdm\n",
    "from skimage.feature import hog\n",
    "from skimage import data, exposure"
   ],
   "metadata": {
    "collapsed": false,
    "pycharm": {
     "name": "#%%\n"
    }
   }
  },
  {
   "cell_type": "markdown",
   "source": [
    "### 1. Extracción de características\n",
    "\n",
    "Se generarán dos funciones auxiliares. Una función que extrae\n",
    "el vector de características con el extractor HOG, y otra función\n",
    "que utiliza el extractor CNN."
   ],
   "metadata": {
    "collapsed": false,
    "pycharm": {
     "name": "#%% md\n"
    }
   }
  },
  {
   "cell_type": "markdown",
   "source": [
    "### EXTRACCIÓN TEMPORAL, SE CAMBIARÁ"
   ],
   "metadata": {
    "collapsed": false
   }
  },
  {
   "cell_type": "code",
   "execution_count": null,
   "outputs": [],
   "source": [
    "#hog\n",
    "r_path = 'jpg/'\n",
    "w_path = 'jpg_hog/'\n",
    "\n",
    "for file in tqdm(os.listdir(r_path)):\n",
    "    image_path = r_path + file\n",
    "    image = Image.open(image_path)\n",
    "    image = image.resize((224,224))\n",
    "\n",
    "    hog_vect = hog(image, orientations=16, pixels_per_cell=(8, 8),\n",
    "                    cells_per_block=(1, 1), feature_vector=True, multichannel=True)\n",
    "\n",
    "    vect_name = w_path + 'hog_' + file[:-4]\n",
    "    #print(type(hog_vect))\n",
    "    #print(hog_vect.shape)\n",
    "    np.save(vect_name, hog_vect)"
   ],
   "metadata": {
    "collapsed": false,
    "pycharm": {
     "name": "#%%\n"
    }
   }
  },
  {
   "cell_type": "code",
   "execution_count": null,
   "outputs": [],
   "source": [
    "#cnn\n",
    "model = torch.hub.load('pytorch/vision:v0.6.0', 'resnet18', pretrained=True)\n",
    "model = torch.nn.Sequential(*(list(model.children())[:-1]))"
   ],
   "metadata": {
    "collapsed": false,
    "pycharm": {
     "name": "#%%\n"
    }
   }
  },
  {
   "cell_type": "code",
   "execution_count": null,
   "outputs": [],
   "source": [
    "preprocess = transforms.Compose([\n",
    "    transforms.ToTensor(),\n",
    "    transforms.Normalize(mean=[0.485, 0.456, 0.406], std=[0.229, 0.224, 0.225]),\n",
    "])\n",
    " # create a mini-batch as expected by the model\n",
    "\n",
    "r_path = 'jpg/'\n",
    "w_path = 'jpg_cnn/'\n",
    "\n",
    "# move the input and model to GPU for speed if available\n",
    "if torch.cuda.is_available():\n",
    "    input_batch = input_batch.to('cuda')\n",
    "    model.to('cuda')\n",
    "\n",
    "with torch.no_grad():\n",
    "    for file in tqdm(os.listdir(r_path)):\n",
    "        image_path = r_path + file\n",
    "        image = Image.open(image_path)\n",
    "        image = image.resize((224,224))\n",
    "        input_tensor = preprocess(image)\n",
    "        input_batch = input_tensor.unsqueeze(0)\n",
    "\n",
    "        output = model(input_batch)\n",
    "        output = output.numpy().ravel()\n",
    "        vect_name = w_path + 'cnn_' + file[:-4]\n",
    "        #print(type(hog_vect))\n",
    "        #print(hog_vect.shape)\n",
    "        np.save(vect_name, output)"
   ],
   "metadata": {
    "collapsed": false,
    "pycharm": {
     "name": "#%%\n"
    }
   }
  },
  {
   "cell_type": "markdown",
   "source": [
    "#### Extracción HOG"
   ],
   "metadata": {
    "collapsed": false,
    "pycharm": {
     "name": "#%% md\n"
    }
   }
  },
  {
   "cell_type": "code",
   "execution_count": null,
   "outputs": [],
   "source": [
    "#FUNCIÓN DE EXTRACCION HOG. ADAPTAR PARA QUE EXTRAIGA A UNA\n",
    "#SOLA IMAGEN\n",
    "#def feature_hog(img_path)\n",
    "\n",
    "\n"
   ],
   "metadata": {
    "collapsed": false,
    "pycharm": {
     "name": "#%%\n"
    }
   }
  },
  {
   "cell_type": "markdown",
   "source": [
    "#### Extracción CNN"
   ],
   "metadata": {
    "collapsed": false
   }
  },
  {
   "cell_type": "code",
   "execution_count": null,
   "outputs": [],
   "source": [
    "#AQUÍ IMPLEMENTAR FUNCIÓN PARA EXTRACCIÓN CNN DE UNA SOLA IMAGEN\n",
    "#def feature_cnn(img_path)"
   ],
   "metadata": {
    "collapsed": false,
    "pycharm": {
     "name": "#%%\n"
    }
   }
  },
  {
   "cell_type": "markdown",
   "source": [
    "Utilzando las dos funciones auxiliares anteriores,\n",
    "la función a continuación calcula el vector de características asociado\n",
    "a una imagen. Los parámetros de esta función son la imagen en cuestión y el tipo de extractor\n",
    "de características, el cual se puede elegir entre HOG y CNN."
   ],
   "metadata": {
    "collapsed": false,
    "pycharm": {
     "name": "#%% md\n"
    }
   }
  },
  {
   "cell_type": "code",
   "execution_count": null,
   "outputs": [],
   "source": [
    "#FUNCIÓN QUE COMBINA LAS DOS ANTERIORES Y EXTRAE CARACTERISTICAS\n",
    "'''def feature_vector(img_path, extractor):\n",
    "\n",
    "    if extractor == 'HOG':\n",
    "\n",
    "        feat_vector = feature_hog(img_path)\n",
    "\n",
    "    elif extractor == 'CNN':\n",
    "\n",
    "        feat_vector = feature_cnn(img_path)\n",
    "\n",
    "    return feat_vector\n",
    "'''"
   ],
   "metadata": {
    "collapsed": false,
    "pycharm": {
     "name": "#%%\n"
    }
   }
  },
  {
   "cell_type": "markdown",
   "source": [
    "A continuación, se extraen las características de cada imagen de la\n",
    "base de datos disponible."
   ],
   "metadata": {
    "collapsed": false,
    "pycharm": {
     "name": "#%% md\n"
    }
   }
  },
  {
   "cell_type": "code",
   "execution_count": null,
   "outputs": [],
   "source": [
    "#ACÁ USAR LOS CICLOS FOR Y LA FUNCIÓN ANTERIOR, Y GUARDAR EN UNA\n",
    "#VARIABLE LOS VECTORES EXTRAÍDOS"
   ],
   "metadata": {
    "collapsed": false,
    "pycharm": {
     "name": "#%%\n"
    }
   }
  },
  {
   "cell_type": "markdown",
   "source": [
    "### 2. Métricas\n",
    "\n",
    "Se definen métricas de comparación entre vectores de\n",
    "características de imágenes, así como medidas para generar\n",
    "un ranking de imágenes similares a una imagen de consulta\n",
    "introducida por el usuario."
   ],
   "metadata": {
    "collapsed": false
   }
  },
  {
   "cell_type": "markdown",
   "source": [
    "#### Distancia euclideana"
   ],
   "metadata": {
    "collapsed": false,
    "pycharm": {
     "name": "#%% md\n"
    }
   }
  },
  {
   "cell_type": "code",
   "execution_count": 4,
   "outputs": [],
   "source": [
    "def dist_euc(X, Y):\n",
    "\n",
    "    dist = np.linalg.norm(X-Y)\n",
    "    return dist"
   ],
   "metadata": {
    "collapsed": false,
    "pycharm": {
     "name": "#%%\n"
    }
   }
  },
  {
   "cell_type": "markdown",
   "source": [
    "#### Distancia chi-cuadrado [1]"
   ],
   "metadata": {
    "collapsed": false
   }
  },
  {
   "cell_type": "code",
   "execution_count": 5,
   "outputs": [],
   "source": [
    "def dist_chi2(X, Y):\n",
    "\n",
    "    chi = 0.5 * np.sum([((x - y) ** 2) / (x + y)\n",
    "                      for (x, y) in zip(X, Y)])\n",
    "    return chi"
   ],
   "metadata": {
    "collapsed": false,
    "pycharm": {
     "name": "#%%\n"
    }
   }
  },
  {
   "cell_type": "markdown",
   "source": [
    "##### Pruebas de dist_euc y dist_chi2"
   ],
   "metadata": {
    "collapsed": false,
    "pycharm": {
     "name": "#%% md\n"
    }
   }
  },
  {
   "cell_type": "code",
   "execution_count": 6,
   "outputs": [
    {
     "name": "stdout",
     "output_type": "stream",
     "text": [
      "6.928203230275509 3.133333333333333\n"
     ]
    }
   ],
   "source": [
    "X = np.array([1,2,3])\n",
    "Y = np.array([5,6,7])\n",
    "print(dist_euc(X, Y), dist_chi2(X, Y))"
   ],
   "metadata": {
    "collapsed": false,
    "pycharm": {
     "name": "#%%\n"
    }
   }
  },
  {
   "cell_type": "markdown",
   "source": [
    "#### Función para elegir tipo de distancia"
   ],
   "metadata": {
    "collapsed": false,
    "pycharm": {
     "name": "#%% md\n"
    }
   }
  },
  {
   "cell_type": "code",
   "execution_count": 7,
   "outputs": [],
   "source": [
    "def dist_vectors(X, Y, dist_type):\n",
    "\n",
    "    if dist_type == 'euc':\n",
    "\n",
    "        dist = dist_euc(X, Y)\n",
    "\n",
    "    elif dist_type == 'chi2':\n",
    "\n",
    "        dist = dist_chi2(X, Y)\n",
    "\n",
    "    return dist"
   ],
   "metadata": {
    "collapsed": false,
    "pycharm": {
     "name": "#%%\n"
    }
   }
  },
  {
   "cell_type": "markdown",
   "source": [
    "### 3. Comparación de una imagen de consulta con la BBDD\n",
    "\n",
    "En esta sección, para cada imagen de consulta, se calcula la distancia entre\n",
    "su vector de características con todos los vectores de características de\n",
    "la base de datos.\n",
    "\n",
    "1 + CLASE (3d) + ID_imagen (2)\n",
    "\n",
    "RECORDATORIO: ID_imagen = 00 -> CONSULTA\n",
    "\n",
    "DISTINTO DE 00 ES BBDD"
   ],
   "metadata": {
    "collapsed": false,
    "pycharm": {
     "name": "#%% md\n"
    }
   }
  },
  {
   "cell_type": "markdown",
   "source": [
    "#### Separación entre grupo de consulta y grupo de BBDD"
   ],
   "metadata": {
    "collapsed": false,
    "pycharm": {
     "name": "#%% md\n"
    }
   }
  },
  {
   "cell_type": "code",
   "execution_count": 11,
   "outputs": [
    {
     "data": {
      "text/plain": "HBox(children=(HTML(value=''), FloatProgress(value=0.0, max=1491.0), HTML(value='')))",
      "application/vnd.jupyter.widget-view+json": {
       "version_major": 2,
       "version_minor": 0,
       "model_id": "d6406ed6da0b4e0780b57463fd623e5a"
      }
     },
     "metadata": {},
     "output_type": "display_data"
    },
    {
     "name": "stdout",
     "output_type": "stream",
     "text": [
      "\n"
     ]
    }
   ],
   "source": [
    "w_path = 'jpg_hog/'\n",
    "img_query = []\n",
    "query_names = []\n",
    "img_db = []\n",
    "db_names = []\n",
    "\n",
    "for file in tqdm(os.listdir(w_path)):\n",
    "\n",
    "    vector_path = w_path + file\n",
    "    feat_vector = np.load(vector_path)\n",
    "    ID_image = vector_path[-6:-4]\n",
    "\n",
    "    if ID_image == '00':\n",
    "        img_query.append(feat_vector)\n",
    "        query_names.append(file[-10:-4])\n",
    "\n",
    "    else:\n",
    "        img_db.append(feat_vector)\n",
    "        db_names.append(file[-10:-4])"
   ],
   "metadata": {
    "collapsed": false,
    "pycharm": {
     "name": "#%%\n"
    }
   }
  },
  {
   "cell_type": "markdown",
   "source": [
    "#### Cálculo de distancias entre imagen de consulta e imágenes de la BBDD\n",
    "\n",
    "Sintaxis:\n",
    "*   distances_euc{'nombre_img_consulta'} = vector_distancias"
   ],
   "metadata": {
    "collapsed": false,
    "pycharm": {
     "name": "#%% md\n"
    }
   }
  },
  {
   "cell_type": "code",
   "execution_count": 19,
   "outputs": [],
   "source": [
    "#uso distancia euclideana\n",
    "distances_euc = {}\n",
    "for i in range(len(img_query)):\n",
    "\n",
    "    query_vect = img_query[i]\n",
    "    query_name = query_names[i]\n",
    "    distances = []\n",
    "\n",
    "    for j in range(len(img_db)):\n",
    "\n",
    "        distances.append(dist_vectors(query_vect, img_db[j],\n",
    "                                      dist_type = 'euc'))\n",
    "\n",
    "    distances_euc[query_name] = np.array(distances)\n"
   ],
   "metadata": {
    "collapsed": false,
    "pycharm": {
     "name": "#%%\n"
    }
   }
  },
  {
   "cell_type": "markdown",
   "source": [
    "### 4. Ordenamiento de imágenes por relevancia (medida de Ranking)\n",
    "\n",
    "A continuación, para cada imagen de consulta, se ordenan de menor a mayor\n",
    "las distancias obtenidas al hacer la comparación con la base de datos.\n",
    "\n",
    "Sintaxis:\n",
    "*   dist_sort_euc{'nombre_img_consulta'} = vector_distancias\n",
    "\n",
    "para cada imagen \"query\",\n",
    "calculaba sus distancias con todas las imagenes en la\n",
    "base de datos, las ordenaba, y calculaba el ranking\n",
    "sacando el promedio de la posición en que quedaron\n",
    "las imágenes de la misma clase a la query"
   ],
   "metadata": {
    "collapsed": false,
    "pycharm": {
     "name": "#%% md\n"
    }
   }
  },
  {
   "cell_type": "code",
   "execution_count": 21,
   "outputs": [],
   "source": [
    "#uso distancia euclideana\n",
    "dist_sort_euc = {}\n",
    "img_query_names = list(distances_euc.keys())\n",
    "\n",
    "for i in range(len(distances_euc)):\n",
    "\n",
    "    feat_vector = distances_euc[img_query_names[i]]\n",
    "    feat_vector_sort = np.sort(feat_vector)\n",
    "    dist_sort_euc[img_query_names[i]] = feat_vector_sort\n"
   ],
   "metadata": {
    "collapsed": false,
    "pycharm": {
     "name": "#%%\n"
    }
   }
  },
  {
   "cell_type": "markdown",
   "source": [
    "Luego, con las imágenes ordenadas, se calcula una medida de ranking,\n",
    "que entrega la posición promedio de las imágenes que entrega el buscador\n",
    "al realizar la consulta de una imagen.\n",
    "\n",
    "Las imágenes consideradas relevantes para la consulta de una imagen particular\n",
    "corresponden a imágenes de la base de datos que pertenecen a la misma\n",
    "clase que la imagen de consulta."
   ],
   "metadata": {
    "collapsed": false,
    "pycharm": {
     "name": "#%% md\n"
    }
   }
  },
  {
   "cell_type": "code",
   "execution_count": null,
   "outputs": [],
   "source": [
    "#def rank(image, Nrel):\n",
    "\n"
   ],
   "metadata": {
    "collapsed": false,
    "pycharm": {
     "name": "#%%\n"
    }
   }
  },
  {
   "cell_type": "markdown",
   "source": [
    "### 5. Comparación de métodos de extracción\n",
    "\n",
    "Se necesita evaluar la robustez de los métodos de extracción utilizados\n",
    "en este proyecto, y una forma de compararlos es mediante la normalización\n",
    "de la medida de Ranking que se utilizó anteriormente."
   ],
   "metadata": {
    "collapsed": false
   }
  },
  {
   "cell_type": "code",
   "execution_count": null,
   "outputs": [],
   "source": [
    "#def rank_norm(image, N, Nrel):\n"
   ],
   "metadata": {
    "collapsed": false,
    "pycharm": {
     "name": "#%%\n"
    }
   }
  },
  {
   "cell_type": "markdown",
   "source": [
    "### 6. Ejemplos de uso del algoritmo\n",
    "\n",
    "A continuación se muestran algunos ejemplos de consulta de imágenes\n",
    "y la respuesta del método, cambiando tipos de extractores y métricas\n",
    "de distancias utilizadas."
   ],
   "metadata": {
    "collapsed": false,
    "pycharm": {
     "name": "#%% md\n"
    }
   }
  },
  {
   "cell_type": "markdown",
   "source": [
    "### 7. Optimización algorítmica del método"
   ],
   "metadata": {
    "collapsed": false,
    "pycharm": {
     "name": "#%% md\n"
    }
   }
  },
  {
   "cell_type": "markdown",
   "source": [
    "### Referencias utilizadas\n",
    "\n",
    "[1] https://www.geeksforgeeks.org/chi-square-distance-in-python/\n",
    "\n"
   ],
   "metadata": {
    "collapsed": false,
    "pycharm": {
     "name": "#%% md\n"
    }
   }
  }
 ],
 "metadata": {
  "kernelspec": {
   "display_name": "Python 3",
   "language": "python",
   "name": "python3"
  },
  "language_info": {
   "codemirror_mode": {
    "name": "ipython",
    "version": 2
   },
   "file_extension": ".py",
   "mimetype": "text/x-python",
   "name": "python",
   "nbconvert_exporter": "python",
   "pygments_lexer": "ipython2",
   "version": "2.7.6"
  }
 },
 "nbformat": 4,
 "nbformat_minor": 0
}