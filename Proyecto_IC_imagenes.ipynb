{
 "cells": [
  {
   "cell_type": "markdown",
   "metadata": {
    "collapsed": true,
    "pycharm": {
     "name": "#%% md\n"
    }
   },
   "source": [
    "# Proyecto Final Área de Imágenes\n",
    "### EL5206 Laboratorio de Inteligencia Computacional y Robótica\n",
    "\n",
    "Integrantes:\n",
    "* José Díaz\n",
    "* Luis Jiménez"
   ]
  },
  {
   "cell_type": "markdown",
   "source": [
    "El proyecto a realizar consiste en el desarrollo e implementación de un\n",
    "algoritmo de búsqueda de imágenes del tipo CBIR, el cual hará comparaciones entre\n",
    "una imagen de consulta e imágenes en la base de datos *INRIA Holidays dataset* a través de sus vectores de características.\n",
    "Para esta implementación se utilizarán dos extractores: uno clásico (HOG) y otro\n",
    "basado en redes convolucionales (CNN).\n",
    "\n",
    "Nota: con el fin de que el código funcione, todas las imágenes de la base de datos se almacenan\n",
    "en la carpeta JPG, que está en el mismo directorio que este notebook Jupyter."
   ],
   "metadata": {
    "collapsed": false,
    "pycharm": {
     "name": "#%% md\n"
    }
   }
  },
  {
   "cell_type": "markdown",
   "source": [
    "### Librerías útiles\n",
    "\n",
    "Carga de librerías útiles para el desarrollo del proyecto."
   ],
   "metadata": {
    "collapsed": false,
    "pycharm": {
     "name": "#%% md\n"
    }
   }
  },
  {
   "cell_type": "code",
   "execution_count": 14,
   "outputs": [],
   "source": [
    "import numpy as np\n",
    "import matplotlib.pyplot as plt\n",
    "import torch\n",
    "from PIL import Image\n",
    "from torchvision import transforms\n",
    "import os\n",
    "from tqdm.notebook import tqdm\n",
    "from skimage.feature import hog\n",
    "from skimage import data, exposure"
   ],
   "metadata": {
    "collapsed": false,
    "pycharm": {
     "name": "#%%\n"
    }
   }
  },
  {
   "cell_type": "markdown",
   "source": [
    "### 1. Extracción de características\n",
    "\n",
    "Para la extracción de carecterísticas se utilizará la función *feature_extractor*,\n",
    "que extrae el vector de características de una imagen, utilizando el extractor\n",
    "de tipo HOG  (clásico) o tipo CNN (red neuronal).\n",
    "\n",
    "Los parámetros que se le entregan a la función son el directorio de\n",
    "la imagen o imágenes (*path_list*), un directorio de guardado (*save_path*)\n",
    "y el tipo de extractor (*extractor_type*). Cada vector de características\n",
    "asociado a una imagen se guarda en el directorio de guardado en forma de un\n",
    "archivo binario de formato *.npy*, el cual puede ser recuperado como array de Numpy\n",
    "mediante la función *np.load*.\n",
    "\n",
    "Hay que precisar que los directorios donde se guardarán los vectores de\n",
    "características deben estar ya creados para que el código funcione, por lo\n",
    "que en el mismo directorio de este notebook se requieren 2 carpetas: *jpg_hog* para\n",
    "los vectores extraídos con el método HOG, y *jpg_cnn* para la extracción\n",
    "con CNN."
   ],
   "metadata": {
    "collapsed": false,
    "pycharm": {
     "name": "#%% md\n"
    }
   }
  },
  {
   "cell_type": "code",
   "execution_count": 3,
   "outputs": [],
   "source": [
    "def feature_extractor(path_list, save_path, extractor_type):\n",
    "\n",
    "    if type(path_list) != type([]):\n",
    "        path_list = [path_list]\n",
    "\n",
    "    if extractor_type == 'HOG':\n",
    "\n",
    "        for file in tqdm(path_list):\n",
    "            image = Image.open(file)\n",
    "            image = image.resize((224,224))\n",
    "\n",
    "            hog_vect = hog(image, orientations=16, pixels_per_cell=(8, 8),\n",
    "                            cells_per_block=(1, 1), feature_vector=True, multichannel=True)\n",
    "\n",
    "            vect_name = vect_name = os.path.join(save_path, 'hog_' + os.path.basename(file[:-4]))\n",
    "            #print(type(hog_vect))\n",
    "            #print(hog_vect.shape)\n",
    "            np.save(vect_name, hog_vect)\n",
    "\n",
    "\n",
    "    elif extractor_type == 'CNN':\n",
    "\n",
    "        model = torch.hub.load('pytorch/vision:v0.6.0', 'resnet18', pretrained=True)\n",
    "        model = torch.nn.Sequential(*(list(model.children())[:-1]))\n",
    "\n",
    "        preprocess = transforms.Compose([\n",
    "        transforms.ToTensor(),\n",
    "        transforms.Normalize(mean=[0.485, 0.456, 0.406], std=[0.229, 0.224, 0.225]),\n",
    "        ])\n",
    "         # create a mini-batch as expected by the model\n",
    "\n",
    "\n",
    "        # move the input and model to GPU for speed if available\n",
    "        if torch.cuda.is_available():\n",
    "            input_batch = input_batch.to('cuda')\n",
    "            model.to('cuda')\n",
    "\n",
    "        with torch.no_grad():\n",
    "            for file in tqdm(path_list):\n",
    "                image = Image.open(file)\n",
    "                image = image.resize((224,224))\n",
    "                input_tensor = preprocess(image)\n",
    "                input_batch = input_tensor.unsqueeze(0)\n",
    "\n",
    "                output = model(input_batch)\n",
    "                output = output.numpy().ravel()\n",
    "                vect_name = os.path.join(save_path, 'cnn_' + os.path.basename(file[:-4]))\n",
    "                #print(type(hog_vect))\n",
    "                #print(hog_vect.shape)\n",
    "                np.save(vect_name, output)\n",
    "\n",
    "    else:\n",
    "        print('Unknown extractor, please use either \"HOB\" or \"CNN\"')"
   ],
   "metadata": {
    "collapsed": false,
    "pycharm": {
     "name": "#%%\n"
    }
   }
  },
  {
   "cell_type": "markdown",
   "source": [
    "#### Lista de directorios de todas las imágenes de la BBDD"
   ],
   "metadata": {
    "collapsed": false,
    "pycharm": {
     "name": "#%% md\n"
    }
   }
  },
  {
   "cell_type": "code",
   "execution_count": 4,
   "outputs": [],
   "source": [
    "file_paths = [os.path.join('jpg', file) for file in os.listdir('jpg')]"
   ],
   "metadata": {
    "collapsed": false,
    "pycharm": {
     "name": "#%%\n"
    }
   }
  },
  {
   "cell_type": "markdown",
   "source": [
    "#### Extracción usando HOG\n",
    "\n",
    "Basta con correr una sola vez la celda para generar los archivos."
   ],
   "metadata": {
    "collapsed": false,
    "pycharm": {
     "name": "#%% md\n"
    }
   }
  },
  {
   "cell_type": "code",
   "execution_count": 6,
   "outputs": [
    {
     "data": {
      "text/plain": "HBox(children=(HTML(value=''), FloatProgress(value=0.0, max=1491.0), HTML(value='')))",
      "application/vnd.jupyter.widget-view+json": {
       "version_major": 2,
       "version_minor": 0,
       "model_id": "a6629b4ad8824a8e95a5ed264b660e55"
      }
     },
     "metadata": {},
     "output_type": "display_data"
    },
    {
     "name": "stdout",
     "output_type": "stream",
     "text": [
      "\n"
     ]
    }
   ],
   "source": [
    "feature_extractor(file_paths, 'jpg_hog/', 'HOG')"
   ],
   "metadata": {
    "collapsed": false,
    "pycharm": {
     "name": "#%%\n"
    }
   }
  },
  {
   "cell_type": "markdown",
   "source": [
    "#### Extracción usando CNN\n",
    "\n",
    "Nota: por el momento, esta extracción solo funciona en Google Colab.\n",
    "Se ha utilizado PyCharm con entorno local pero el código se cae. Para\n",
    "efectos de prueba en PyCharm, este código se ha ejecutado en Colab para\n",
    "obtener los archivos asociados a los vectores de características."
   ],
   "metadata": {
    "collapsed": false,
    "pycharm": {
     "name": "#%% md\n"
    }
   }
  },
  {
   "cell_type": "code",
   "execution_count": 6,
   "outputs": [],
   "source": [
    "#feature_extractor(file_paths, 'jpg_cnn/', 'CNN')"
   ],
   "metadata": {
    "collapsed": false,
    "pycharm": {
     "name": "#%%\n"
    }
   }
  },
  {
   "cell_type": "markdown",
   "source": [
    "### 2. Métricas\n",
    "\n",
    "Se definen métricas de comparación entre vectores de\n",
    "características de imágenes, correspondientes a distancia entre\n",
    "vectores."
   ],
   "metadata": {
    "collapsed": false
   }
  },
  {
   "cell_type": "markdown",
   "source": [
    "#### Distancia euclideana"
   ],
   "metadata": {
    "collapsed": false,
    "pycharm": {
     "name": "#%% md\n"
    }
   }
  },
  {
   "cell_type": "code",
   "execution_count": 7,
   "outputs": [],
   "source": [
    "def dist_euc(X, Y):\n",
    "\n",
    "    dist = np.linalg.norm(X-Y)\n",
    "    return dist"
   ],
   "metadata": {
    "collapsed": false,
    "pycharm": {
     "name": "#%%\n"
    }
   }
  },
  {
   "cell_type": "markdown",
   "source": [
    "#### Distancia chi-cuadrado [1]"
   ],
   "metadata": {
    "collapsed": false
   }
  },
  {
   "cell_type": "code",
   "execution_count": 8,
   "outputs": [],
   "source": [
    "def dist_chi2(X, Y):\n",
    "\n",
    "    chi = 0.5 * np.sum([((x - y) ** 2) / (x + y)\n",
    "                      for (x, y) in zip(X, Y)])\n",
    "    return chi"
   ],
   "metadata": {
    "collapsed": false,
    "pycharm": {
     "name": "#%%\n"
    }
   }
  },
  {
   "cell_type": "markdown",
   "source": [
    "##### Pruebas de dist_euc y dist_chi2"
   ],
   "metadata": {
    "collapsed": false,
    "pycharm": {
     "name": "#%% md\n"
    }
   }
  },
  {
   "cell_type": "code",
   "execution_count": 15,
   "outputs": [
    {
     "name": "stdout",
     "output_type": "stream",
     "text": [
      "6.928203230275509 3.133333333333333 Power_divergenceResult(statistic=8.152380952380952, pvalue=0.016971997886164398)\n"
     ]
    }
   ],
   "source": [
    "X = np.array([1,2,3])\n",
    "Y = np.array([5,6,7])\n",
    "print(dist_euc(X, Y), dist_chi2(X, Y))"
   ],
   "metadata": {
    "collapsed": false,
    "pycharm": {
     "name": "#%%\n"
    }
   }
  },
  {
   "cell_type": "markdown",
   "source": [
    "#### Función para elegir tipo de distancia"
   ],
   "metadata": {
    "collapsed": false,
    "pycharm": {
     "name": "#%% md\n"
    }
   }
  },
  {
   "cell_type": "code",
   "execution_count": 16,
   "outputs": [],
   "source": [
    "def dist_vectors(X, Y, dist_type):\n",
    "\n",
    "    if dist_type == 'euc':\n",
    "\n",
    "        dist = dist_euc(X, Y)\n",
    "\n",
    "    elif dist_type == 'chi2':\n",
    "\n",
    "        dist = dist_chi2(X, Y)\n",
    "\n",
    "    return dist"
   ],
   "metadata": {
    "collapsed": false,
    "pycharm": {
     "name": "#%%\n"
    }
   }
  },
  {
   "cell_type": "markdown",
   "source": [
    "### 3. Comparación de una imagen de consulta con la BBDD\n",
    "\n",
    "En esta sección, para cada imagen de consulta, se calcula la distancia entre\n",
    "su vector de características con todos los vectores de características de\n",
    "la base de datos."
   ],
   "metadata": {
    "collapsed": false,
    "pycharm": {
     "name": "#%% md\n"
    }
   }
  },
  {
   "cell_type": "markdown",
   "source": [
    "#### Separación entre grupo de consulta y grupo de BBDD\n",
    "\n",
    "Los nombres de los archivos de las imágenes, obviando la extensión,\n",
    "se construyen mediante la siguiente estructura:\n",
    "\n",
    "1 + *CLASE* + *ID_imagen*\n",
    "\n",
    "donde *CLASE* es la clase de la imagen, codificada en 3 dígitos, e\n",
    "*ID_imagen*, codificado en 2 dígitos, que permite distinguir si una\n",
    "imagen es de consulta o de la BBDD. Para este caso, todas las imágenes\n",
    "con *ID_imagen = '00'* corresponden a imágenes de consulta. Las imágenes\n",
    "que no cumplan esa condición corresponden a la BBDD.\n",
    "\n",
    "Existen parámetros y variables de importancia tanto en en esta sección\n",
    "como para desarrollos posteriores:\n",
    "\n",
    "*   *ex_type* es un string que permite decidir qué tipo de extractor fue\n",
    "    el usado para los vectores de características, y por ende, para\n",
    "    elegir la carpeta en cuestión donde dichos vectores están almacenados. Puede\n",
    "    setearse como *'hog*, para el extractor clásico, o como *'cnn'* para el extractor\n",
    "    CNN.\n",
    "*   *img_query* es una lista que guarda en cada componente un vector de\n",
    "    características asociado a una imagen de consulta.\n",
    "*   *query_names* es una lista que guarda en cada componente un string\n",
    "    con el nombre de una imagen de consulta, en la misma posición en que\n",
    "    su vector de características de guardó en *img_query*. Ej: si el vector\n",
    "    se ubica en *img_query[2]*, el nombre de dicha imagen se ubica en\n",
    "    *query_names[2]*.\n",
    "\n",
    "De manera análoga se definen:\n",
    "*   *img_db*, que guarda los vectores asociados a las imágenes de la BBDD.\n",
    "*   *db_names*, que guarda strings de los nombres de dichas imágenes."
   ],
   "metadata": {
    "collapsed": false,
    "pycharm": {
     "name": "#%% md\n"
    }
   }
  },
  {
   "cell_type": "code",
   "execution_count": 11,
   "outputs": [],
   "source": [
    "ex_type = 'hog'\n",
    "w_path = 'jpg_' + ex_type + '/'\n",
    "img_query = []\n",
    "query_names = []\n",
    "img_db = []\n",
    "db_names = []"
   ],
   "metadata": {
    "collapsed": false,
    "pycharm": {
     "name": "#%%\n"
    }
   }
  },
  {
   "cell_type": "code",
   "execution_count": 12,
   "outputs": [
    {
     "data": {
      "text/plain": "HBox(children=(HTML(value=''), FloatProgress(value=0.0, max=1491.0), HTML(value='')))",
      "application/vnd.jupyter.widget-view+json": {
       "version_major": 2,
       "version_minor": 0,
       "model_id": "5ce574d58bd2488bb177252d554ea86f"
      }
     },
     "metadata": {},
     "output_type": "display_data"
    },
    {
     "name": "stdout",
     "output_type": "stream",
     "text": [
      "\n"
     ]
    }
   ],
   "source": [
    "for file in tqdm(os.listdir(w_path)):\n",
    "\n",
    "    vector_path = w_path + file\n",
    "    feat_vector = np.load(vector_path)\n",
    "    ID_image = vector_path[-6:-4] #extracción del ID\n",
    "\n",
    "    if ID_image == '00': #comprobar si la img es de consulta\n",
    "        img_query.append(feat_vector)\n",
    "        query_names.append(file[-10:-4]) #guardar nombre de imagen\n",
    "\n",
    "    else:\n",
    "        img_db.append(feat_vector)\n",
    "        db_names.append(file[-10:-4])"
   ],
   "metadata": {
    "collapsed": false,
    "pycharm": {
     "name": "#%%\n"
    }
   }
  },
  {
   "cell_type": "markdown",
   "source": [
    "#### Cálculo de distancias entre imagen de consulta e imágenes de la BBDD\n",
    "\n",
    "Una vez separados los vectores, se realiza lo siguiente: para cada vector de\n",
    "consulta, se calcula la distancia entre este y cada vector de la BBDD, generando\n",
    "un vector de distancias. Para conservar estas distancias obtenidas, se ha generado\n",
    "un diccionario de nombre *distances_euc* para distancias calculadas usando\n",
    " distancia euclideana, y un diccionario llamado *distances_chi2* para\n",
    " distancias calculadas mediante distancia chi cuadrado.\n",
    "Para ambos diccionarios, la sintaxis se utiliza como:\n",
    "\n",
    "*distances_X{'query_name'} = distances*\n",
    "\n",
    "donde *'query_name'* es el nombre asociado a la imagen de consulta (los nombres\n",
    "de estas imágenes están almacenados en la lista *query_names*) y *distances* es su\n",
    "vector de características asociado (los cuales se obtienen de la lista *img_query*).\n"
   ],
   "metadata": {
    "collapsed": false,
    "pycharm": {
     "name": "#%% md\n"
    }
   }
  },
  {
   "cell_type": "code",
   "execution_count": 17,
   "outputs": [],
   "source": [
    "#distancia euclideana\n",
    "distances_euc = {}\n",
    "for i in range(len(img_query)):\n",
    "\n",
    "    query_vect = img_query[i]\n",
    "    query_name = query_names[i]\n",
    "    distances = []\n",
    "\n",
    "    for j in range(len(img_db)):\n",
    "\n",
    "        distances.append(dist_vectors(query_vect, img_db[j],\n",
    "                                      dist_type = 'euc'))\n",
    "\n",
    "    distances_euc[query_name] = np.array(distances)"
   ],
   "metadata": {
    "collapsed": false,
    "pycharm": {
     "name": "#%%\n"
    }
   }
  },
  {
   "cell_type": "code",
   "execution_count": 16,
   "outputs": [
    {
     "name": "stderr",
     "output_type": "stream",
     "text": [
      "<ipython-input-12-18cc7abf22ff>:3: RuntimeWarning: invalid value encountered in double_scalars\n",
      "  chi = 0.5 * np.sum([((x - y) ** 2) / (x + y)\n"
     ]
    },
    {
     "ename": "KeyboardInterrupt",
     "evalue": "",
     "output_type": "error",
     "traceback": [
      "\u001B[1;31m---------------------------------------------------------------------------\u001B[0m",
      "\u001B[1;31mKeyboardInterrupt\u001B[0m                         Traceback (most recent call last)",
      "\u001B[1;32m<ipython-input-16-463ecafcc0b3>\u001B[0m in \u001B[0;36m<module>\u001B[1;34m\u001B[0m\n\u001B[0;32m      9\u001B[0m     \u001B[1;32mfor\u001B[0m \u001B[0mj\u001B[0m \u001B[1;32min\u001B[0m \u001B[0mrange\u001B[0m\u001B[1;33m(\u001B[0m\u001B[0mlen\u001B[0m\u001B[1;33m(\u001B[0m\u001B[0mimg_db\u001B[0m\u001B[1;33m)\u001B[0m\u001B[1;33m)\u001B[0m\u001B[1;33m:\u001B[0m\u001B[1;33m\u001B[0m\u001B[1;33m\u001B[0m\u001B[0m\n\u001B[0;32m     10\u001B[0m \u001B[1;33m\u001B[0m\u001B[0m\n\u001B[1;32m---> 11\u001B[1;33m         distances.append(dist_vectors(query_vect, img_db[j],\n\u001B[0m\u001B[0;32m     12\u001B[0m                                       dist_type = 'chi2'))\n\u001B[0;32m     13\u001B[0m \u001B[1;33m\u001B[0m\u001B[0m\n",
      "\u001B[1;32m<ipython-input-14-20028d039076>\u001B[0m in \u001B[0;36mdist_vectors\u001B[1;34m(X, Y, dist_type)\u001B[0m\n\u001B[0;32m      7\u001B[0m     \u001B[1;32melif\u001B[0m \u001B[0mdist_type\u001B[0m \u001B[1;33m==\u001B[0m \u001B[1;34m'chi2'\u001B[0m\u001B[1;33m:\u001B[0m\u001B[1;33m\u001B[0m\u001B[1;33m\u001B[0m\u001B[0m\n\u001B[0;32m      8\u001B[0m \u001B[1;33m\u001B[0m\u001B[0m\n\u001B[1;32m----> 9\u001B[1;33m         \u001B[0mdist\u001B[0m \u001B[1;33m=\u001B[0m \u001B[0mdist_chi2\u001B[0m\u001B[1;33m(\u001B[0m\u001B[0mX\u001B[0m\u001B[1;33m,\u001B[0m \u001B[0mY\u001B[0m\u001B[1;33m)\u001B[0m\u001B[1;33m\u001B[0m\u001B[1;33m\u001B[0m\u001B[0m\n\u001B[0m\u001B[0;32m     10\u001B[0m \u001B[1;33m\u001B[0m\u001B[0m\n\u001B[0;32m     11\u001B[0m     \u001B[1;32mreturn\u001B[0m \u001B[0mdist\u001B[0m\u001B[1;33m\u001B[0m\u001B[1;33m\u001B[0m\u001B[0m\n",
      "\u001B[1;32m<ipython-input-12-18cc7abf22ff>\u001B[0m in \u001B[0;36mdist_chi2\u001B[1;34m(X, Y)\u001B[0m\n\u001B[0;32m      1\u001B[0m \u001B[1;32mdef\u001B[0m \u001B[0mdist_chi2\u001B[0m\u001B[1;33m(\u001B[0m\u001B[0mX\u001B[0m\u001B[1;33m,\u001B[0m \u001B[0mY\u001B[0m\u001B[1;33m)\u001B[0m\u001B[1;33m:\u001B[0m\u001B[1;33m\u001B[0m\u001B[1;33m\u001B[0m\u001B[0m\n\u001B[0;32m      2\u001B[0m \u001B[1;33m\u001B[0m\u001B[0m\n\u001B[1;32m----> 3\u001B[1;33m     chi = 0.5 * np.sum([((x - y) ** 2) / (x + y)\n\u001B[0m\u001B[0;32m      4\u001B[0m                       for (x, y) in zip(X, Y)])\n\u001B[0;32m      5\u001B[0m     \u001B[1;32mreturn\u001B[0m \u001B[0mchi\u001B[0m\u001B[1;33m\u001B[0m\u001B[1;33m\u001B[0m\u001B[0m\n",
      "\u001B[1;32m<ipython-input-12-18cc7abf22ff>\u001B[0m in \u001B[0;36m<listcomp>\u001B[1;34m(.0)\u001B[0m\n\u001B[0;32m      1\u001B[0m \u001B[1;32mdef\u001B[0m \u001B[0mdist_chi2\u001B[0m\u001B[1;33m(\u001B[0m\u001B[0mX\u001B[0m\u001B[1;33m,\u001B[0m \u001B[0mY\u001B[0m\u001B[1;33m)\u001B[0m\u001B[1;33m:\u001B[0m\u001B[1;33m\u001B[0m\u001B[1;33m\u001B[0m\u001B[0m\n\u001B[0;32m      2\u001B[0m \u001B[1;33m\u001B[0m\u001B[0m\n\u001B[1;32m----> 3\u001B[1;33m     chi = 0.5 * np.sum([((x - y) ** 2) / (x + y)\n\u001B[0m\u001B[0;32m      4\u001B[0m                       for (x, y) in zip(X, Y)])\n\u001B[0;32m      5\u001B[0m     \u001B[1;32mreturn\u001B[0m \u001B[0mchi\u001B[0m\u001B[1;33m\u001B[0m\u001B[1;33m\u001B[0m\u001B[0m\n",
      "\u001B[1;31mKeyboardInterrupt\u001B[0m: "
     ]
    }
   ],
   "source": [
    "#distancia chi2\n",
    "distances_chi2 = {}\n",
    "for i in range(len(img_query)):\n",
    "\n",
    "    query_vect = img_query[i]\n",
    "    query_name = query_names[i]\n",
    "    distances = []\n",
    "\n",
    "    for j in range(len(img_db)):\n",
    "\n",
    "        distances.append(dist_vectors(query_vect, img_db[j],\n",
    "                                      dist_type = 'chi2'))\n",
    "\n",
    "    distances_chi2[query_name] = np.array(distances)"
   ],
   "metadata": {
    "collapsed": false,
    "pycharm": {
     "name": "#%%\n"
    }
   }
  },
  {
   "cell_type": "markdown",
   "source": [
    "### 4. Ordenamiento de imágenes por relevancia (medida de Ranking)\n",
    "\n",
    "A continuación, para cada imagen de consulta, se ordenan de menor a mayor\n",
    "las distancias obtenidas al hacer la comparación con la base de datos.\n",
    "Adicionalmente, se conservan los índices de las distancias previo al\n",
    "ordenamiento, ya que dichos índices corresponden a las imágenes de la\n",
    "base de datos, que se necesitarán para la medida de ranking. Lo anterior\n",
    "implica la generación de dos diccionarios nuevos: *dist_sort_X*, que\n",
    "funciona como los diccionarios *distances_X*, con el vector de distancias\n",
    "ordenado de menor a mayor valor, y el diccionario\n",
    "*dist_sort_X_index*, que guarda las posiciones de las distancias de\n",
    "menor a mayor, utilizando los índices previos al ordenamiento.\n",
    "\n",
    "La sintaxis de ambos diccionarios es como sigue:\n",
    "\n",
    "*   *dist_sort_X{'nombre_img_consulta'} = vector_distancias*\n",
    "*   *dist_sort_X_index{'nombre_img_consulta'} = pos_previas_dist*\n",
    "\n",
    "Como se puede apreciar, la forma de la sintaxis es análoga a los diccionarios\n",
    "que tienen sus distancias sin ordenar. De igual forma, se tienen 2 versiones\n",
    "asociadas a el tipo de distancia asociada (de ahí la *X*)."
   ],
   "metadata": {
    "collapsed": false,
    "pycharm": {
     "name": "#%% md\n"
    }
   }
  },
  {
   "cell_type": "code",
   "execution_count": 18,
   "outputs": [],
   "source": [
    "#distancia euclideana\n",
    "dist_sort_euc = {}\n",
    "dist_sort_euc_index = {}\n",
    "img_query_names = list(distances_euc.keys())\n",
    "\n",
    "for i in range(len(distances_euc)):\n",
    "\n",
    "    dist_vector = distances_euc[img_query_names[i]]\n",
    "    dist_vector_index = np.argsort(dist_vector)\n",
    "    dist_vector_sort = np.sort(dist_vector)\n",
    "    dist_sort_euc[img_query_names[i]] = dist_vector_sort\n",
    "    dist_sort_euc_index[img_query_names[i]] = dist_vector_index"
   ],
   "metadata": {
    "collapsed": false,
    "pycharm": {
     "name": "#%%\n"
    }
   }
  },
  {
   "cell_type": "code",
   "execution_count": null,
   "outputs": [],
   "source": [
    "#distancia chi2\n",
    "dist_sort_chi2 = {}\n",
    "dist_sort_chi2_index = {}\n",
    "img_query_names = list(distances_chi2.keys())\n",
    "\n",
    "for i in range(len(distances_chi2)):\n",
    "\n",
    "    dist_vector = distances_chi2[img_query_names[i]]\n",
    "    dist_vector_index = np.argsort(dist_vector)\n",
    "    dist_vector_sort = np.sort(dist_vector)\n",
    "    dist_sort_chi2[img_query_names[i]] = dist_vector_sort\n",
    "    dist_sort_chi2_index[img_query_names[i]] = dist_vector_index"
   ],
   "metadata": {
    "collapsed": false,
    "pycharm": {
     "name": "#%%\n"
    }
   }
  },
  {
   "cell_type": "markdown",
   "source": [
    "Luego, con las imágenes ordenadas, se calcula una medida de ranking,\n",
    "que entrega la posición promedio de las imágenes que entrega el buscador\n",
    "al realizar la consulta de una imagen.\n",
    "\n",
    "Las imágenes consideradas relevantes para la consulta de una imagen particular\n",
    "corresponden a imágenes de la base de datos que pertenecen a la misma\n",
    "clase que la imagen de consulta.\n",
    "\n",
    "La función que se muestra a continuación calcula el ranking para\n",
    "una sola imagen de consulta, además del número de imágenes relevantes\n",
    "para la consulta en curso. Adicionalmente, si el usuario lo requiere,\n",
    "esta función puede devolver las posiciones de las imágenes consideradas\n",
    "relevantes. Estas posiciones se basan en el diccionario *dist_sort_X_index*\n",
    "definido anteriormente."
   ],
   "metadata": {
    "collapsed": false,
    "pycharm": {
     "name": "#%% md\n"
    }
   }
  },
  {
   "cell_type": "code",
   "execution_count": 26,
   "outputs": [],
   "source": [
    "def rank(img_query_name, rel_pos = False):\n",
    "\n",
    "    Nrel = 0\n",
    "    sum = 0\n",
    "    img_query_class = img_query_name[1:2] #clase imagen de consulta\n",
    "    img_db_pos = dist_sort_euc_index[img_query_name]\n",
    "    relevant_pos = []\n",
    "\n",
    "    for pos in img_db_pos:\n",
    "\n",
    "        img_db_class = db_names[pos][1:2] #clase imagen de bbdd\n",
    "\n",
    "        if img_db_class == img_query_class: #preguntar si es relevante\n",
    "\n",
    "            sum += pos\n",
    "            Nrel += 1\n",
    "            relevant_pos.append(pos)\n",
    "\n",
    "    r = sum/Nrel\n",
    "    r_pos = np.array(relevant_pos)\n",
    "\n",
    "    if rel_pos == True:\n",
    "        return r, Nrel, r_pos\n",
    "\n",
    "    else:\n",
    "        return r, Nrel"
   ],
   "metadata": {
    "collapsed": false,
    "pycharm": {
     "name": "#%%\n"
    }
   }
  },
  {
   "cell_type": "markdown",
   "source": [
    "### 5. Comparación de métodos de extracción\n",
    "\n",
    "Se necesita evaluar la robustez de los métodos de extracción utilizados\n",
    "en este proyecto, y una forma de compararlos es mediante la normalización\n",
    "de la medida de Ranking que se utilizó anteriormente."
   ],
   "metadata": {
    "collapsed": false
   }
  },
  {
   "cell_type": "code",
   "execution_count": 20,
   "outputs": [],
   "source": [
    "def rank_norm(img_query_name):\n",
    "\n",
    "    r, Nrel = rank(img_query_name)\n",
    "    N = len(db_names)\n",
    "\n",
    "    r_norm = (r*Nrel - (Nrel(Nrel + 1))/2) * (N*Nrel)**(-1)\n",
    "\n",
    "    return r_norm"
   ],
   "metadata": {
    "collapsed": false,
    "pycharm": {
     "name": "#%%\n"
    }
   }
  },
  {
   "cell_type": "markdown",
   "source": [
    "### 6. Ejemplos de uso del algoritmo\n",
    "\n",
    "A continuación se muestran algunos ejemplos de consulta de imágenes\n",
    "y la respuesta del método, cambiando tipos de extractores y métricas\n",
    "de distancias utilizadas."
   ],
   "metadata": {
    "collapsed": false,
    "pycharm": {
     "name": "#%% md\n"
    }
   }
  },
  {
   "cell_type": "markdown",
   "source": [
    "### 7. Optimización algorítmica del método"
   ],
   "metadata": {
    "collapsed": false,
    "pycharm": {
     "name": "#%% md\n"
    }
   }
  },
  {
   "cell_type": "markdown",
   "source": [
    "### Referencias utilizadas\n",
    "\n",
    "[1] https://www.geeksforgeeks.org/chi-square-distance-in-python/\n",
    "\n"
   ],
   "metadata": {
    "collapsed": false,
    "pycharm": {
     "name": "#%% md\n"
    }
   }
  }
 ],
 "metadata": {
  "kernelspec": {
   "display_name": "Python 3",
   "language": "python",
   "name": "python3"
  },
  "language_info": {
   "codemirror_mode": {
    "name": "ipython",
    "version": 2
   },
   "file_extension": ".py",
   "mimetype": "text/x-python",
   "name": "python",
   "nbconvert_exporter": "python",
   "pygments_lexer": "ipython2",
   "version": "2.7.6"
  }
 },
 "nbformat": 4,
 "nbformat_minor": 0
}